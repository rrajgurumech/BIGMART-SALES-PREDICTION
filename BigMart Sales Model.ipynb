{
 "cells": [
  {
   "cell_type": "code",
   "execution_count": 35,
   "metadata": {},
   "outputs": [],
   "source": [
    "import numpy as np\n",
    "import pandas as pd\n",
    "\n",
    "from sklearn.linear_model import LinearRegression\n",
    "from sklearn.metrics import mean_squared_error\n",
    "from sklearn.model_selection import cross_val_score\n",
    "\n",
    "from sklearn"
   ]
  },
  {
   "cell_type": "code",
   "execution_count": 36,
   "metadata": {},
   "outputs": [],
   "source": [
    "train = pd.read_csv(\"train_BigMartSales_Preprocessed.csv\")\n",
    "test = pd.read_csv(\"test_BigMartSales_Preprocessed.csv\")"
   ]
  },
  {
   "cell_type": "code",
   "execution_count": 37,
   "metadata": {},
   "outputs": [
    {
     "data": {
      "text/html": [
       "<div>\n",
       "<style scoped>\n",
       "    .dataframe tbody tr th:only-of-type {\n",
       "        vertical-align: middle;\n",
       "    }\n",
       "\n",
       "    .dataframe tbody tr th {\n",
       "        vertical-align: top;\n",
       "    }\n",
       "\n",
       "    .dataframe thead th {\n",
       "        text-align: right;\n",
       "    }\n",
       "</style>\n",
       "<table border=\"1\" class=\"dataframe\">\n",
       "  <thead>\n",
       "    <tr style=\"text-align: right;\">\n",
       "      <th></th>\n",
       "      <th>Item_Fat_Content_Low Fat</th>\n",
       "      <th>Item_Fat_Content_Regular</th>\n",
       "      <th>Item_Type_Baking Goods</th>\n",
       "      <th>Item_Type_Breads</th>\n",
       "      <th>Item_Type_Breakfast</th>\n",
       "      <th>Item_Type_Canned</th>\n",
       "      <th>Item_Type_Dairy</th>\n",
       "      <th>Item_Type_Frozen Foods</th>\n",
       "      <th>Item_Type_Fruits and Vegetables</th>\n",
       "      <th>Item_Type_Hard Drinks</th>\n",
       "      <th>...</th>\n",
       "      <th>Item_Identifier_2_NC</th>\n",
       "      <th>Outlet_Type_Category_Grocery</th>\n",
       "      <th>Outlet_Type_Category_Supermarket</th>\n",
       "      <th>Item_Weight</th>\n",
       "      <th>Item_Visibility</th>\n",
       "      <th>Item_MRP</th>\n",
       "      <th>Item_Outlet_Sales</th>\n",
       "      <th>Outlet_Age</th>\n",
       "      <th>Item_Identifier</th>\n",
       "      <th>Outlet_Identifier</th>\n",
       "    </tr>\n",
       "  </thead>\n",
       "  <tbody>\n",
       "    <tr>\n",
       "      <th>0</th>\n",
       "      <td>1</td>\n",
       "      <td>0</td>\n",
       "      <td>0</td>\n",
       "      <td>0</td>\n",
       "      <td>0</td>\n",
       "      <td>0</td>\n",
       "      <td>1</td>\n",
       "      <td>0</td>\n",
       "      <td>0</td>\n",
       "      <td>0</td>\n",
       "      <td>...</td>\n",
       "      <td>0</td>\n",
       "      <td>0</td>\n",
       "      <td>1</td>\n",
       "      <td>9.30</td>\n",
       "      <td>0.016047</td>\n",
       "      <td>249.8092</td>\n",
       "      <td>3735.1380</td>\n",
       "      <td>21</td>\n",
       "      <td>FDA15</td>\n",
       "      <td>OUT049</td>\n",
       "    </tr>\n",
       "    <tr>\n",
       "      <th>1</th>\n",
       "      <td>0</td>\n",
       "      <td>1</td>\n",
       "      <td>0</td>\n",
       "      <td>0</td>\n",
       "      <td>0</td>\n",
       "      <td>0</td>\n",
       "      <td>0</td>\n",
       "      <td>0</td>\n",
       "      <td>0</td>\n",
       "      <td>0</td>\n",
       "      <td>...</td>\n",
       "      <td>0</td>\n",
       "      <td>0</td>\n",
       "      <td>1</td>\n",
       "      <td>5.92</td>\n",
       "      <td>0.019278</td>\n",
       "      <td>48.2692</td>\n",
       "      <td>443.4228</td>\n",
       "      <td>11</td>\n",
       "      <td>DRC01</td>\n",
       "      <td>OUT018</td>\n",
       "    </tr>\n",
       "    <tr>\n",
       "      <th>2</th>\n",
       "      <td>1</td>\n",
       "      <td>0</td>\n",
       "      <td>0</td>\n",
       "      <td>0</td>\n",
       "      <td>0</td>\n",
       "      <td>0</td>\n",
       "      <td>0</td>\n",
       "      <td>0</td>\n",
       "      <td>0</td>\n",
       "      <td>0</td>\n",
       "      <td>...</td>\n",
       "      <td>0</td>\n",
       "      <td>0</td>\n",
       "      <td>1</td>\n",
       "      <td>17.50</td>\n",
       "      <td>0.016760</td>\n",
       "      <td>141.6180</td>\n",
       "      <td>2097.2700</td>\n",
       "      <td>21</td>\n",
       "      <td>FDN15</td>\n",
       "      <td>OUT049</td>\n",
       "    </tr>\n",
       "    <tr>\n",
       "      <th>3</th>\n",
       "      <td>0</td>\n",
       "      <td>1</td>\n",
       "      <td>0</td>\n",
       "      <td>0</td>\n",
       "      <td>0</td>\n",
       "      <td>0</td>\n",
       "      <td>0</td>\n",
       "      <td>0</td>\n",
       "      <td>1</td>\n",
       "      <td>0</td>\n",
       "      <td>...</td>\n",
       "      <td>0</td>\n",
       "      <td>1</td>\n",
       "      <td>0</td>\n",
       "      <td>19.20</td>\n",
       "      <td>0.022930</td>\n",
       "      <td>182.0950</td>\n",
       "      <td>732.3800</td>\n",
       "      <td>22</td>\n",
       "      <td>FDX07</td>\n",
       "      <td>OUT010</td>\n",
       "    </tr>\n",
       "    <tr>\n",
       "      <th>4</th>\n",
       "      <td>1</td>\n",
       "      <td>0</td>\n",
       "      <td>0</td>\n",
       "      <td>0</td>\n",
       "      <td>0</td>\n",
       "      <td>0</td>\n",
       "      <td>0</td>\n",
       "      <td>0</td>\n",
       "      <td>0</td>\n",
       "      <td>0</td>\n",
       "      <td>...</td>\n",
       "      <td>1</td>\n",
       "      <td>0</td>\n",
       "      <td>1</td>\n",
       "      <td>8.93</td>\n",
       "      <td>0.014670</td>\n",
       "      <td>53.8614</td>\n",
       "      <td>994.7052</td>\n",
       "      <td>33</td>\n",
       "      <td>NCD19</td>\n",
       "      <td>OUT013</td>\n",
       "    </tr>\n",
       "  </tbody>\n",
       "</table>\n",
       "<p>5 rows × 40 columns</p>\n",
       "</div>"
      ],
      "text/plain": [
       "   Item_Fat_Content_Low Fat  Item_Fat_Content_Regular  Item_Type_Baking Goods  \\\n",
       "0                         1                         0                       0   \n",
       "1                         0                         1                       0   \n",
       "2                         1                         0                       0   \n",
       "3                         0                         1                       0   \n",
       "4                         1                         0                       0   \n",
       "\n",
       "   Item_Type_Breads  Item_Type_Breakfast  Item_Type_Canned  Item_Type_Dairy  \\\n",
       "0                 0                    0                 0                1   \n",
       "1                 0                    0                 0                0   \n",
       "2                 0                    0                 0                0   \n",
       "3                 0                    0                 0                0   \n",
       "4                 0                    0                 0                0   \n",
       "\n",
       "   Item_Type_Frozen Foods  Item_Type_Fruits and Vegetables  \\\n",
       "0                       0                                0   \n",
       "1                       0                                0   \n",
       "2                       0                                0   \n",
       "3                       0                                1   \n",
       "4                       0                                0   \n",
       "\n",
       "   Item_Type_Hard Drinks  ...  Item_Identifier_2_NC  \\\n",
       "0                      0  ...                     0   \n",
       "1                      0  ...                     0   \n",
       "2                      0  ...                     0   \n",
       "3                      0  ...                     0   \n",
       "4                      0  ...                     1   \n",
       "\n",
       "   Outlet_Type_Category_Grocery  Outlet_Type_Category_Supermarket  \\\n",
       "0                             0                                 1   \n",
       "1                             0                                 1   \n",
       "2                             0                                 1   \n",
       "3                             1                                 0   \n",
       "4                             0                                 1   \n",
       "\n",
       "   Item_Weight  Item_Visibility  Item_MRP  Item_Outlet_Sales  Outlet_Age  \\\n",
       "0         9.30         0.016047  249.8092          3735.1380          21   \n",
       "1         5.92         0.019278   48.2692           443.4228          11   \n",
       "2        17.50         0.016760  141.6180          2097.2700          21   \n",
       "3        19.20         0.022930  182.0950           732.3800          22   \n",
       "4         8.93         0.014670   53.8614           994.7052          33   \n",
       "\n",
       "   Item_Identifier  Outlet_Identifier  \n",
       "0            FDA15             OUT049  \n",
       "1            DRC01             OUT018  \n",
       "2            FDN15             OUT049  \n",
       "3            FDX07             OUT010  \n",
       "4            NCD19             OUT013  \n",
       "\n",
       "[5 rows x 40 columns]"
      ]
     },
     "execution_count": 37,
     "metadata": {},
     "output_type": "execute_result"
    }
   ],
   "source": [
    "train.head()"
   ]
  },
  {
   "cell_type": "code",
   "execution_count": 38,
   "metadata": {},
   "outputs": [],
   "source": [
    "train_X = train.drop(columns= [\"Item_Outlet_Sales\",\"Item_Identifier\", \"Outlet_Identifier\"])"
   ]
  },
  {
   "cell_type": "code",
   "execution_count": 39,
   "metadata": {},
   "outputs": [],
   "source": [
    "test_X = test.drop(columns= [\"Item_Outlet_Sales\",\"Item_Identifier\", \"Outlet_Identifier\"])"
   ]
  },
  {
   "cell_type": "code",
   "execution_count": 40,
   "metadata": {},
   "outputs": [],
   "source": [
    "train_y = train[\"Item_Outlet_Sales\"]"
   ]
  },
  {
   "cell_type": "code",
   "execution_count": 41,
   "metadata": {},
   "outputs": [],
   "source": [
    "model = LinearRegression()"
   ]
  },
  {
   "cell_type": "code",
   "execution_count": 42,
   "metadata": {},
   "outputs": [
    {
     "data": {
      "text/plain": [
       "LinearRegression()"
      ]
     },
     "execution_count": 42,
     "metadata": {},
     "output_type": "execute_result"
    }
   ],
   "source": [
    "model.fit(train_X, train_y)"
   ]
  },
  {
   "cell_type": "code",
   "execution_count": 43,
   "metadata": {},
   "outputs": [],
   "source": [
    "pred_train = model.predict(train_X)\n",
    "pred_test = model.predict(test_X)"
   ]
  },
  {
   "cell_type": "code",
   "execution_count": 44,
   "metadata": {},
   "outputs": [],
   "source": [
    "pred_test = abs(pred_test)"
   ]
  },
  {
   "cell_type": "code",
   "execution_count": 45,
   "metadata": {},
   "outputs": [
    {
     "name": "stdout",
     "output_type": "stream",
     "text": [
      "RMSE of Train Data =  1127.757956620502\n"
     ]
    }
   ],
   "source": [
    "print(\"RMSE of Train Data = \",np.sqrt(mean_squared_error(train_y, pred_train)))"
   ]
  },
  {
   "cell_type": "code",
   "execution_count": 46,
   "metadata": {},
   "outputs": [],
   "source": [
    "score = cross_val_score(model, train_X, train_y, cv = 10, scoring = \"neg_root_mean_squared_error\" )"
   ]
  },
  {
   "cell_type": "code",
   "execution_count": 13,
   "metadata": {},
   "outputs": [
    {
     "data": {
      "text/plain": [
       "array([-1165.04446963, -1138.37414973, -1123.31798712, -1121.63174236,\n",
       "       -1122.41893765, -1110.78315406, -1116.96652607, -1142.97921986,\n",
       "       -1139.51916616, -1146.68883668])"
      ]
     },
     "execution_count": 13,
     "metadata": {},
     "output_type": "execute_result"
    }
   ],
   "source": [
    "score"
   ]
  },
  {
   "cell_type": "code",
   "execution_count": 47,
   "metadata": {},
   "outputs": [
    {
     "data": {
      "text/plain": [
       "1132.7724189322107"
      ]
     },
     "execution_count": 47,
     "metadata": {},
     "output_type": "execute_result"
    }
   ],
   "source": [
    "np.mean(np.abs(score))"
   ]
  },
  {
   "cell_type": "code",
   "execution_count": 48,
   "metadata": {},
   "outputs": [],
   "source": [
    "sample = pd.read_csv(\"https://datahack-prod.s3.amazonaws.com/sample_submission/sample_submission_8RXa3c6.csv\")"
   ]
  },
  {
   "cell_type": "code",
   "execution_count": 49,
   "metadata": {},
   "outputs": [
    {
     "data": {
      "text/plain": [
       "Index(['Item_Identifier', 'Outlet_Identifier', 'Item_Outlet_Sales'], dtype='object')"
      ]
     },
     "execution_count": 49,
     "metadata": {},
     "output_type": "execute_result"
    }
   ],
   "source": [
    "sample.columns"
   ]
  },
  {
   "cell_type": "code",
   "execution_count": 17,
   "metadata": {},
   "outputs": [],
   "source": [
    "sample[\"Item_Outlet_Sales\"] = pred_test"
   ]
  },
  {
   "cell_type": "code",
   "execution_count": 18,
   "metadata": {},
   "outputs": [
    {
     "data": {
      "text/plain": [
       "Index(['Item_Identifier', 'Outlet_Identifier', 'Item_Outlet_Sales'], dtype='object')"
      ]
     },
     "execution_count": 18,
     "metadata": {},
     "output_type": "execute_result"
    }
   ],
   "source": [
    "sample.columns"
   ]
  },
  {
   "cell_type": "code",
   "execution_count": 19,
   "metadata": {},
   "outputs": [],
   "source": [
    "test_result_upload = pd.concat([test[[\"Item_Identifier\", \"Outlet_Identifier\"]], pd.DataFrame(pred_test)], axis = 1)"
   ]
  },
  {
   "cell_type": "code",
   "execution_count": 20,
   "metadata": {},
   "outputs": [],
   "source": [
    "test_result_upload.columns = ['Item_Identifier', 'Outlet_Identifier', 'Item_Outlet_Sales']"
   ]
  },
  {
   "cell_type": "code",
   "execution_count": 21,
   "metadata": {},
   "outputs": [
    {
     "data": {
      "text/html": [
       "<div>\n",
       "<style scoped>\n",
       "    .dataframe tbody tr th:only-of-type {\n",
       "        vertical-align: middle;\n",
       "    }\n",
       "\n",
       "    .dataframe tbody tr th {\n",
       "        vertical-align: top;\n",
       "    }\n",
       "\n",
       "    .dataframe thead th {\n",
       "        text-align: right;\n",
       "    }\n",
       "</style>\n",
       "<table border=\"1\" class=\"dataframe\">\n",
       "  <thead>\n",
       "    <tr style=\"text-align: right;\">\n",
       "      <th></th>\n",
       "      <th>Item_Identifier</th>\n",
       "      <th>Outlet_Identifier</th>\n",
       "      <th>Item_Outlet_Sales</th>\n",
       "    </tr>\n",
       "  </thead>\n",
       "  <tbody>\n",
       "    <tr>\n",
       "      <th>0</th>\n",
       "      <td>FDW58</td>\n",
       "      <td>OUT049</td>\n",
       "      <td>1829.356987</td>\n",
       "    </tr>\n",
       "    <tr>\n",
       "      <th>1</th>\n",
       "      <td>FDW14</td>\n",
       "      <td>OUT017</td>\n",
       "      <td>1556.480606</td>\n",
       "    </tr>\n",
       "    <tr>\n",
       "      <th>2</th>\n",
       "      <td>NCN55</td>\n",
       "      <td>OUT010</td>\n",
       "      <td>1882.605254</td>\n",
       "    </tr>\n",
       "    <tr>\n",
       "      <th>3</th>\n",
       "      <td>FDQ58</td>\n",
       "      <td>OUT017</td>\n",
       "      <td>2614.677418</td>\n",
       "    </tr>\n",
       "    <tr>\n",
       "      <th>4</th>\n",
       "      <td>FDY38</td>\n",
       "      <td>OUT027</td>\n",
       "      <td>5136.462241</td>\n",
       "    </tr>\n",
       "    <tr>\n",
       "      <th>...</th>\n",
       "      <td>...</td>\n",
       "      <td>...</td>\n",
       "      <td>...</td>\n",
       "    </tr>\n",
       "    <tr>\n",
       "      <th>5676</th>\n",
       "      <td>FDB58</td>\n",
       "      <td>OUT046</td>\n",
       "      <td>2299.373457</td>\n",
       "    </tr>\n",
       "    <tr>\n",
       "      <th>5677</th>\n",
       "      <td>FDD47</td>\n",
       "      <td>OUT018</td>\n",
       "      <td>2467.643022</td>\n",
       "    </tr>\n",
       "    <tr>\n",
       "      <th>5678</th>\n",
       "      <td>NCO17</td>\n",
       "      <td>OUT045</td>\n",
       "      <td>1883.657933</td>\n",
       "    </tr>\n",
       "    <tr>\n",
       "      <th>5679</th>\n",
       "      <td>FDJ26</td>\n",
       "      <td>OUT017</td>\n",
       "      <td>3603.133774</td>\n",
       "    </tr>\n",
       "    <tr>\n",
       "      <th>5680</th>\n",
       "      <td>FDU37</td>\n",
       "      <td>OUT045</td>\n",
       "      <td>1349.362340</td>\n",
       "    </tr>\n",
       "  </tbody>\n",
       "</table>\n",
       "<p>5681 rows × 3 columns</p>\n",
       "</div>"
      ],
      "text/plain": [
       "     Item_Identifier Outlet_Identifier  Item_Outlet_Sales\n",
       "0              FDW58            OUT049        1829.356987\n",
       "1              FDW14            OUT017        1556.480606\n",
       "2              NCN55            OUT010        1882.605254\n",
       "3              FDQ58            OUT017        2614.677418\n",
       "4              FDY38            OUT027        5136.462241\n",
       "...              ...               ...                ...\n",
       "5676           FDB58            OUT046        2299.373457\n",
       "5677           FDD47            OUT018        2467.643022\n",
       "5678           NCO17            OUT045        1883.657933\n",
       "5679           FDJ26            OUT017        3603.133774\n",
       "5680           FDU37            OUT045        1349.362340\n",
       "\n",
       "[5681 rows x 3 columns]"
      ]
     },
     "execution_count": 21,
     "metadata": {},
     "output_type": "execute_result"
    }
   ],
   "source": [
    "test_result_upload"
   ]
  },
  {
   "cell_type": "code",
   "execution_count": 22,
   "metadata": {},
   "outputs": [],
   "source": [
    "test_result_upload.to_csv(\"test_result_Linear_regression.csv\", index = False)"
   ]
  },
  {
   "cell_type": "code",
   "execution_count": 23,
   "metadata": {},
   "outputs": [
    {
     "data": {
      "text/plain": [
       "array([-2.07750568e+01,  2.07750568e+01, -2.77714889e+00,  3.04826529e+00,\n",
       "        1.47507627e+00,  2.36598396e+01, -5.37547096e+01, -3.03101136e+01,\n",
       "        2.65798727e+01, -5.11926052e+01,  4.27910488e+00, -2.38302139e+01,\n",
       "       -1.96179486e+00, -7.44099015e+00,  1.82529602e+02, -1.33059775e+01,\n",
       "       -7.72669734e+01,  2.02687669e+01,  5.19696234e+02, -2.42532215e+02,\n",
       "       -2.77164018e+02,  2.08072178e+02,  3.94131336e+01, -2.47485312e+02,\n",
       "       -6.58014127e+02, -4.51793622e+02, -6.81412965e+02,  1.79122071e+03,\n",
       "        3.73526642e+01, -1.03605650e+01, -2.69920992e+01, -6.58014127e+02,\n",
       "        6.58014127e+02, -4.98760204e-01, -1.72828238e+02,  1.55776052e+01,\n",
       "       -3.10548611e+01])"
      ]
     },
     "execution_count": 23,
     "metadata": {},
     "output_type": "execute_result"
    }
   ],
   "source": [
    "model.coef_"
   ]
  },
  {
   "cell_type": "code",
   "execution_count": 24,
   "metadata": {},
   "outputs": [
    {
     "data": {
      "text/plain": [
       "685.61212450068"
      ]
     },
     "execution_count": 24,
     "metadata": {},
     "output_type": "execute_result"
    }
   ],
   "source": [
    "model.intercept_"
   ]
  },
  {
   "cell_type": "code",
   "execution_count": 54,
   "metadata": {},
   "outputs": [],
   "source": [
    "from sklearn.preprocessing import PolynomialFeatures"
   ]
  },
  {
   "cell_type": "code",
   "execution_count": 55,
   "metadata": {},
   "outputs": [],
   "source": [
    "poly = PolynomialFeatures(degree = 2)"
   ]
  },
  {
   "cell_type": "code",
   "execution_count": 58,
   "metadata": {},
   "outputs": [],
   "source": [
    "new_X = poly.fit_transform(train_X)\n",
    "model = LinearRegression()"
   ]
  },
  {
   "cell_type": "code",
   "execution_count": 59,
   "metadata": {},
   "outputs": [
    {
     "data": {
      "text/plain": [
       "LinearRegression()"
      ]
     },
     "execution_count": 59,
     "metadata": {},
     "output_type": "execute_result"
    }
   ],
   "source": [
    "model.fit(new_X, train_y)"
   ]
  },
  {
   "cell_type": "code",
   "execution_count": 61,
   "metadata": {
    "collapsed": true
   },
   "outputs": [
    {
     "data": {
      "text/plain": [
       "array([ 8.06402360e-08,  5.62323909e+01, -5.62323917e+01,  4.46154866e+01,\n",
       "        5.56869193e+01, -6.09600529e+02,  4.06154492e+02,  1.74963046e+02,\n",
       "        1.76110771e+02,  1.90973808e+02,  6.15069610e+02, -1.01409720e+02,\n",
       "        3.62305982e+01,  3.21639395e+02,  1.03017763e+02, -1.79827188e+03,\n",
       "        3.13654830e+02,  3.50561967e+02, -2.79396561e+02,  4.63116008e+00,\n",
       "        2.47912931e+00, -7.11028937e+00,  1.18574204e+00, -5.70732005e+00,\n",
       "        4.52157801e+00,  1.08938745e+00, -5.26093082e+00,  3.25173233e+00,\n",
       "        9.19811058e-01, -1.92679637e+02,  1.54840996e+02,  3.78386415e+01,\n",
       "        1.08938744e+00, -1.08938744e+00,  2.00076057e+02, -4.02321780e+03,\n",
       "        6.69528552e+00,  2.42925199e+02,  5.62323917e+01,  3.19822391e-10,\n",
       "       -7.77697609e+01,  8.50396996e+01, -3.53382384e+02,  2.02918406e+02,\n",
       "        2.78647194e+01,  7.63879021e+01,  7.88119897e+01,  6.15069610e+02,\n",
       "       -1.01409720e+02,  3.62305982e+01,  1.53341354e+02,  1.03017763e+02,\n",
       "       -1.05190575e+03,  1.22125088e+02,  3.57349728e+02, -2.17456856e+02,\n",
       "        2.05143042e+02, -4.91543203e+01, -9.97563302e+01,  7.75425301e+01,\n",
       "        3.04449346e+01, -5.17550731e+01,  3.04445182e+01, -1.00643253e+02,\n",
       "       -1.88947633e+01,  1.45325890e+02, -1.85891877e+02,  2.04285627e+02,\n",
       "        3.78386415e+01,  3.04445182e+01,  2.57878734e+01,  9.86158020e+01,\n",
       "       -1.93699938e+03,  3.40943565e+00,  1.14097672e+02, -5.62323917e+01,\n",
       "        1.22385247e+02, -2.93527801e+01, -2.56218146e+02,  2.03236086e+02,\n",
       "        1.47098327e+02,  9.97228686e+01,  1.12161818e+02, -8.96562824e-11,\n",
       "        3.10507176e-11,  5.28217470e-11,  1.68298041e+02,  4.77555773e-11,\n",
       "       -7.46366130e+02,  1.91529742e+02, -6.78776067e+00, -6.19397043e+01,\n",
       "       -2.00511882e+02,  5.16334496e+01,  9.26460408e+01, -7.63567881e+01,\n",
       "       -3.61522546e+01,  5.62766511e+01, -2.93551308e+01,  9.53823221e+01,\n",
       "        2.21464957e+01, -1.44406079e+02, -6.78776067e+00, -4.94446310e+01,\n",
       "        1.19939614e-11, -2.93551308e+01, -2.68772608e+01,  1.01460255e+02,\n",
       "       -2.08621843e+03,  3.28584982e+00,  1.28827527e+02,  4.46154861e+01,\n",
       "        1.08002496e-12, -5.34328137e-12, -8.55493454e-12, -1.06865627e-11,\n",
       "        2.50111043e-11,  3.52429197e-12, -1.81898940e-12, -1.36424205e-11,\n",
       "       -1.59730007e-11,  5.68434189e-13,  1.91562322e-11, -5.45696821e-12,\n",
       "       -8.86757334e-12, -1.45519152e-11, -1.44950718e-12, -3.20206042e+02,\n",
       "        2.06777952e+02,  1.58043576e+02,  2.29421975e+01, -5.66762960e+01,\n",
       "        7.83495846e+01,  1.10178798e+01,  2.72704479e+02,  9.57890688e+01,\n",
       "       -3.34895941e+02,  2.04636308e-12,  4.46154861e+01,  0.00000000e+00,\n",
       "        1.10178798e+01,  3.35976063e+01, -1.00338500e+01, -5.44815687e+02,\n",
       "       -3.12560125e-02,  3.09671840e+01,  5.56869195e+01,  5.79802872e-12,\n",
       "       -1.17665877e-11, -2.27373675e-12, -7.73070497e-12,  2.27373675e-13,\n",
       "        5.45696821e-12, -7.95807864e-13, -1.27329258e-11, -5.91171556e-12,\n",
       "        7.50333129e-12, -4.26325641e-12,  2.61479727e-12, -3.86535248e-12,\n",
       "        2.92743607e-12, -5.14641153e+02,  2.29182198e+02,  3.41145875e+02,\n",
       "       -4.58684265e+01, -2.13191953e+02,  3.14747299e+02,  4.34498934e+01,\n",
       "        3.93314231e+02,  7.72936057e+01, -4.58370810e+02,  5.79802872e-12,\n",
       "        5.56869195e+01,  2.48974175e-11,  4.34498934e+01,  1.22370261e+01,\n",
       "        6.79038344e+00, -1.26157070e+03, -1.31643695e+00,  2.33362613e+01,\n",
       "       -6.09600529e+02, -7.44648787e-12,  2.39879228e-11,  1.36424205e-12,\n",
       "       -3.97903932e-12,  2.27373675e-12, -3.18323146e-12,  3.41060513e-13,\n",
       "        1.17097443e-11, -1.38697942e-11, -2.78532752e-12, -1.47792889e-12,\n",
       "       -1.30739863e-11,  1.13686838e-13, -1.18115436e+03,  7.23110055e+02,\n",
       "       -1.51556220e+02, -5.31968013e+02,  2.82818952e+02, -3.60451468e+02,\n",
       "       -4.27541618e+02,  1.46674399e+02,  5.02051687e+02, -8.30784998e+02,\n",
       "       -4.77484718e-12, -6.09600529e+02, -4.09272616e-12, -4.27541618e+02,\n",
       "       -1.82058912e+02,  3.59303419e+01,  3.42118842e+03,  3.63858531e+00,\n",
       "        9.94520171e+01,  4.06154492e+02, -9.09494702e-13,  1.36424205e-12,\n",
       "        4.54747351e-13, -1.86446414e-11,  1.27329258e-11, -5.91171556e-12,\n",
       "        2.72848411e-12,  1.36424205e-12,  1.18234311e-11,  1.81898940e-12,\n",
       "        1.18234311e-11, -1.40971679e-11,  6.72853029e+02, -2.36781215e+02,\n",
       "       -2.99173212e+01,  3.62042832e+02,  1.02110966e+02, -5.79993055e+01,\n",
       "        2.18599192e+02, -2.73368335e+02, -3.64322738e+02,  8.25246373e+02,\n",
       "        1.36424205e-12,  4.06154492e+02, -2.84217094e-12,  2.18599192e+02,\n",
       "        1.87555300e+02,  9.84882626e+00, -1.44369169e+03, -4.51577016e-01,\n",
       "       -2.37315085e+01,  1.74963046e+02, -1.18234311e-11, -4.09272616e-12,\n",
       "        4.54747351e-13,  1.13686838e-13, -6.82121026e-13,  4.61852778e-13,\n",
       "       -3.41060513e-13, -4.54747351e-13,  0.00000000e+00,  1.81898940e-12,\n",
       "        0.00000000e+00,  7.40414760e+02, -3.09917290e+02, -2.55534425e+02,\n",
       "        2.33445432e+02,  1.41525555e+02, -2.00007941e+02,  1.34933793e+02,\n",
       "       -4.52345261e+02, -2.24053220e+02,  7.16427734e+02, -1.15831121e+03,\n",
       "        1.33327426e+03,  0.00000000e+00,  1.34933793e+02,  4.00292538e+01,\n",
       "       -3.61604133e+00, -8.52892766e+02,  5.81162169e-01, -2.19154399e+01,\n",
       "        1.76110771e+02,  0.00000000e+00,  0.00000000e+00,  0.00000000e+00,\n",
       "        0.00000000e+00,  0.00000000e+00,  0.00000000e+00,  0.00000000e+00,\n",
       "        0.00000000e+00,  0.00000000e+00,  0.00000000e+00,  2.42253676e+02,\n",
       "        1.99357637e+01, -8.60786691e+01,  1.82965587e+02,  5.47323895e+01,\n",
       "       -6.15872060e+01,  1.10075675e+02, -2.80466447e+01, -1.24354994e+02,\n",
       "        2.18436734e+02,  0.00000000e+00,  1.76110771e+02,  0.00000000e+00,\n",
       "        1.10075675e+02,  6.60350954e+01,  1.28408360e+01, -3.78640689e+02,\n",
       "        1.72321438e-01,  3.45946945e+00,  1.90973808e+02,  0.00000000e+00,\n",
       "        0.00000000e+00,  0.00000000e+00,  0.00000000e+00,  0.00000000e+00,\n",
       "        0.00000000e+00,  0.00000000e+00,  0.00000000e+00,  0.00000000e+00,\n",
       "        3.68961547e+02,  7.57298237e+01, -2.53717563e+02,  1.45531244e+02,\n",
       "        2.91226915e+02, -2.45784351e+02,  8.09327071e+01, -1.86909404e+02,\n",
       "       -1.38487161e+02,  4.35437665e+02,  0.00000000e+00,  1.90973808e+02,\n",
       "        0.00000000e+00,  8.09327071e+01,  1.10041101e+02,  1.05048225e+01,\n",
       "       -2.82284099e+02,  2.39961171e-01,  8.66537616e+00,  6.15069610e+02,\n",
       "        0.00000000e+00,  0.00000000e+00,  0.00000000e+00,  0.00000000e+00,\n",
       "        0.00000000e+00,  0.00000000e+00,  0.00000000e+00,  0.00000000e+00,\n",
       "        3.05991517e+03, -1.42755654e+03, -1.01728902e+03,  1.12142484e+03,\n",
       "        7.24011931e+01, -5.78756423e+02,  4.35097964e+02, -1.46241825e+03,\n",
       "       -9.88252873e+02,  2.63064277e+03,  6.15069610e+02,  0.00000000e+00,\n",
       "        0.00000000e+00,  4.35097964e+02,  1.79971645e+02,  1.72080697e+01,\n",
       "       -5.06491653e+02,  1.40174624e+00, -1.47832361e+02, -1.01409720e+02,\n",
       "        0.00000000e+00,  0.00000000e+00,  0.00000000e+00,  0.00000000e+00,\n",
       "        0.00000000e+00,  0.00000000e+00,  0.00000000e+00, -4.77932924e+02,\n",
       "       -9.56253185e+01,  4.72148523e+02, -7.07802194e+01, -4.76083582e+02,\n",
       "        4.45454082e+02, -7.44046010e+01,  1.76358705e+02, -1.00666448e+02,\n",
       "       -1.02697376e+02,  0.00000000e+00,  0.00000000e+00, -1.01409720e+02,\n",
       "       -7.44046010e+01, -2.70051188e+01,  2.98756580e+01, -2.55572001e+02,\n",
       "        1.22794963e+00,  1.80567024e+01,  3.62305982e+01,  0.00000000e+00,\n",
       "        0.00000000e+00,  0.00000000e+00,  0.00000000e+00,  0.00000000e+00,\n",
       "        0.00000000e+00,  3.26310929e+02, -4.25143040e+01, -2.47566026e+02,\n",
       "        6.08074922e+01,  1.34174703e+02, -1.58751597e+02,  4.70483481e+01,\n",
       "       -9.09076450e+01, -7.53608294e+01,  1.55450724e+02,  0.00000000e+00,\n",
       "        0.00000000e+00,  3.62305982e+01,  4.70483481e+01, -1.08177499e+01,\n",
       "        3.09984949e+01, -9.40723843e+02,  1.84393882e-01,  1.62496807e+01,\n",
       "        3.21639395e+02,  0.00000000e+00,  0.00000000e+00,  0.00000000e+00,\n",
       "        0.00000000e+00,  0.00000000e+00,  7.29135373e+02,  2.07282029e+01,\n",
       "       -4.28224181e+02,  2.86058210e+02,  3.56552312e+02, -3.20971127e+02,\n",
       "        1.70318809e+02, -3.18369389e+02, -5.16042901e+01,  5.21294264e+02,\n",
       "        0.00000000e+00,  3.21639395e+02,  0.00000000e+00,  1.70318809e+02,\n",
       "        1.51320586e+02, -8.12627328e+00,  9.74768004e+02, -9.11267454e-02,\n",
       "       -1.84115189e+00,  1.03017763e+02,  0.00000000e+00,  0.00000000e+00,\n",
       "        0.00000000e+00,  0.00000000e+00,  4.47406086e+02,  9.94267239e+01,\n",
       "       -4.43815046e+02,  6.89540676e+01,  3.58918699e+02, -3.24855004e+02,\n",
       "        8.37633251e+01, -4.01002972e+01,  8.95855606e+01, -3.02308253e+01,\n",
       "        0.00000000e+00,  0.00000000e+00,  1.03017763e+02,  8.37633251e+01,\n",
       "        1.92544381e+01, -7.15965817e+00,  8.85052109e+00,  4.59490491e-01,\n",
       "        2.10656643e+01, -1.79827188e+03,  0.00000000e+00,  0.00000000e+00,\n",
       "        0.00000000e+00, -6.16404995e+03,  1.40690856e+03,  2.95886951e+03,\n",
       "       -2.41334008e+03, -1.70701620e+03,  2.32208441e+03, -1.08989488e+03,\n",
       "        2.75978180e+03,  1.77690750e+03, -5.24506629e+03,  0.00000000e+00,\n",
       "       -1.79827188e+03,  0.00000000e+00, -1.08989488e+03, -7.08376997e+02,\n",
       "        5.67433538e+01, -3.10279147e+03, -4.09510391e-01,  2.49568360e+02,\n",
       "        3.13654830e+02,  0.00000000e+00,  0.00000000e+00,  6.03071705e+02,\n",
       "       -5.10081889e+01, -2.38408686e+02,  2.81541717e+02,  2.11510448e+02,\n",
       "       -1.79397334e+02,  1.80744169e+02, -1.47591515e+02, -1.64675947e+02,\n",
       "        4.45178124e+02,  0.00000000e+00,  3.13654830e+02,  0.00000000e+00,\n",
       "        1.80744169e+02,  1.32910662e+02,  1.01568752e+01, -2.41985968e+02,\n",
       "       -1.04391945e+00, -7.66312372e+00,  3.50561967e+02,  0.00000000e+00,\n",
       "        2.68080915e+03, -1.11401885e+03, -1.21622833e+03,  7.61631898e+02,\n",
       "        3.98056765e+02, -8.09126696e+02,  2.90702590e+02, -1.43208666e+03,\n",
       "       -5.79512197e+02,  2.07145824e+03,  3.50561967e+02,  0.00000000e+00,\n",
       "        0.00000000e+00,  2.90702590e+02,  5.98593771e+01,  1.05925647e+01,\n",
       "       -1.19551380e+03,  3.20320798e+00, -9.35835493e+01, -2.79396561e+02,\n",
       "       -1.20851583e+03,  4.98101558e+02,  4.31017712e+02, -4.64203032e+02,\n",
       "        4.32318139e+01,  1.41574658e+02, -2.13753860e+02,  6.78048862e+02,\n",
       "        2.72915011e+02, -1.01660657e+03,  0.00000000e+00, -2.79396561e+02,\n",
       "        0.00000000e+00, -2.13753860e+02, -6.56427005e+01, -2.47834690e+00,\n",
       "        2.57894962e+03, -1.06970623e+00,  6.86716169e+01,  4.63116008e+00,\n",
       "        0.00000000e+00,  0.00000000e+00,  0.00000000e+00,  0.00000000e+00,\n",
       "        4.63116008e+00,  0.00000000e+00,  4.63116008e+00,  0.00000000e+00,\n",
       "        0.00000000e+00, -1.32663439e+03,  1.03548146e+03,  2.95784090e+02,\n",
       "        0.00000000e+00,  4.63116008e+00,  4.83489552e+02, -7.57442208e+03,\n",
       "        7.51340461e+00,  1.52828282e+02,  2.47912929e+00,  0.00000000e+00,\n",
       "        2.58871137e+00,  0.00000000e+00, -1.09582074e-01, -4.28112546e+00,\n",
       "        2.58871137e+00,  3.25173233e+00,  9.19811056e-01,  6.46498521e+02,\n",
       "       -6.05306493e+02, -3.87128987e+01, -4.28112546e+00,  6.76025475e+00,\n",
       "       -1.41548361e+02,  2.19775523e+03,  2.97550841e-01,  2.81406213e+01,\n",
       "       -7.11028937e+00, -1.40296933e+00, -5.70732004e+00,  0.00000000e+00,\n",
       "        5.37051289e+00, -1.24808023e+01,  0.00000000e+00,  0.00000000e+00,\n",
       "        4.87456236e+02, -2.75333976e+02, -2.19232550e+02,  5.37051289e+00,\n",
       "       -1.24808023e+01, -1.41865133e+02,  1.35344905e+03, -1.11566988e+00,\n",
       "        6.19562948e+01,  1.18574204e+00,  0.00000000e+00,  0.00000000e+00,\n",
       "        5.37051289e+00, -4.18477085e+00,  0.00000000e+00,  0.00000000e+00,\n",
       "       -4.11377182e+02,  3.53581583e+02,  5.89813404e+01,  5.37051289e+00,\n",
       "       -4.18477085e+00,  2.67851070e+02, -4.09327839e+03,  3.84493510e+00,\n",
       "        8.65407989e+01, -5.70732004e+00,  0.00000000e+00,  0.00000000e+00,\n",
       "       -5.70732004e+00,  0.00000000e+00,  0.00000000e+00,  9.13438779e+01,\n",
       "       -1.14061017e+02,  1.70098195e+01,  0.00000000e+00, -5.70732004e+00,\n",
       "        2.76624494e+02, -1.02438943e+03,  3.37561893e+00,  2.97784346e+01,\n",
       "        4.52157800e+00, -4.28112546e+00,  4.63116008e+00,  3.25173233e+00,\n",
       "        9.19811056e-01,  1.27353666e+02, -8.46795700e+01, -3.81525183e+01,\n",
       "       -4.28112546e+00,  8.80270346e+00, -3.44399507e+02,  1.09445002e+03,\n",
       "       -5.25268513e-01,  1.26605965e+02,  1.08938744e+00,  0.00000000e+00,\n",
       "        0.00000000e+00,  0.00000000e+00, -1.55306976e+02,  9.99892910e+01,\n",
       "        5.64070722e+01,  1.08938744e+00,  0.00000000e+00,  8.23877753e+01,\n",
       "       -2.24255790e+03, -1.79427257e+00,  9.37831913e+01, -5.26093082e+00,\n",
       "        0.00000000e+00,  0.00000000e+00,  5.18004866e+02, -5.68616560e+02,\n",
       "        4.53507631e+01,  0.00000000e+00, -5.26093082e+00, -5.78865607e+02,\n",
       "        2.59859369e+03, -2.14538375e+00,  8.11795647e+01,  3.25173233e+00,\n",
       "        0.00000000e+00,  4.72635815e+02, -3.82942367e+02, -8.64417166e+01,\n",
       "        0.00000000e+00,  3.25173233e+00,  3.48630087e+01,  3.75521652e+03,\n",
       "       -2.85878739e+00,  3.57690556e+01,  9.19811056e-01, -1.02801334e+03,\n",
       "        1.00641063e+03,  2.25225228e+01,  0.00000000e+00,  9.19811056e-01,\n",
       "        6.61690879e+02, -8.13447011e+03,  1.34937292e+01,  3.21933870e+01,\n",
       "       -1.92679637e+02,  0.00000000e+00,  0.00000000e+00, -1.55306976e+02,\n",
       "       -3.73726617e+01,  7.30076574e+01, -1.66263174e+03,  1.02631502e+00,\n",
       "        1.63821432e+02,  1.54840996e+02,  0.00000000e+00,  9.99892910e+01,\n",
       "        5.48517049e+01,  7.33539046e+01, -1.17314075e+03,  3.79713656e+00,\n",
       "        2.37317192e+01,  3.78386415e+01,  5.64070722e+01, -1.85684307e+01,\n",
       "        5.37144947e+01, -1.18744532e+03,  1.87183401e+00,  5.53720473e+01,\n",
       "        1.08938744e+00,  0.00000000e+00,  8.23877753e+01, -2.24255790e+03,\n",
       "       -1.79427257e+00,  9.37831913e+01, -1.08938744e+00,  1.17688281e+02,\n",
       "       -1.78065990e+03,  8.48955805e+00,  1.49142007e+02, -1.32948306e+00,\n",
       "       -7.64677276e+01,  7.40508063e-04, -6.81744997e-01,  3.20824943e+03,\n",
       "       -4.69836606e+00,  4.45935933e+02, -3.83258798e-03, -2.45601406e-01,\n",
       "       -2.41339685e+01])"
      ]
     },
     "execution_count": 61,
     "metadata": {},
     "output_type": "execute_result"
    }
   ],
   "source": [
    "model.coef_"
   ]
  },
  {
   "cell_type": "code",
   "execution_count": 62,
   "metadata": {},
   "outputs": [],
   "source": [
    "pred_df = model.predict(new_X)"
   ]
  },
  {
   "cell_type": "code",
   "execution_count": 65,
   "metadata": {},
   "outputs": [
    {
     "data": {
      "text/plain": [
       "<function matplotlib.pyplot.scatter(x, y, s=None, c=None, marker=None, cmap=None, norm=None, vmin=None, vmax=None, alpha=None, linewidths=None, verts=<deprecated parameter>, edgecolors=None, *, plotnonfinite=False, data=None, **kwargs)>"
      ]
     },
     "execution_count": 65,
     "metadata": {},
     "output_type": "execute_result"
    }
   ],
   "source": [
    "import matplotlib.pyplot as plt\n",
    "plt.scatter"
   ]
  },
  {
   "cell_type": "code",
   "execution_count": 66,
   "metadata": {},
   "outputs": [],
   "source": [
    "pred_train = model.predict(new_X)"
   ]
  },
  {
   "cell_type": "code",
   "execution_count": 69,
   "metadata": {},
   "outputs": [
    {
     "name": "stdout",
     "output_type": "stream",
     "text": [
      "RMSE of train data 1055.7261560924858\n"
     ]
    }
   ],
   "source": [
    "print(\"RMSE of train data\",np.sqrt(mean_squared_error(train_y, pred_train)))"
   ]
  },
  {
   "cell_type": "code",
   "execution_count": null,
   "metadata": {},
   "outputs": [],
   "source": [
    "model = DecisionTreeRegressor"
   ]
  }
 ],
 "metadata": {
  "kernelspec": {
   "display_name": "Python 3",
   "language": "python",
   "name": "python3"
  },
  "language_info": {
   "codemirror_mode": {
    "name": "ipython",
    "version": 3
   },
   "file_extension": ".py",
   "mimetype": "text/x-python",
   "name": "python",
   "nbconvert_exporter": "python",
   "pygments_lexer": "ipython3",
   "version": "3.8.3"
  }
 },
 "nbformat": 4,
 "nbformat_minor": 4
}
